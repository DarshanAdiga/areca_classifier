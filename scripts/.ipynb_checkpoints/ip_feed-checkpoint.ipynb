{
 "cells": [
  {
   "cell_type": "code",
   "execution_count": 16,
   "metadata": {},
   "outputs": [
    {
     "name": "stdout",
     "output_type": "stream",
     "text": [
      "Camera feed not available! Exit? (y/n)\n",
      "y\n"
     ]
    }
   ],
   "source": [
    "import cv2\n",
    "\n",
    "# insert the HTTP(S)/RSTP feed from the camera\n",
    "#url = \"http://192.168.1.100:8080\"\n",
    "url = \"rtsp://192.168.1.100:8080/h264_ulaw.sdp\"\n",
    "\n",
    "# open the feed\n",
    "cap = cv2.VideoCapture(url)\n",
    "    \n",
    "img_counter=0\n",
    "while True:\n",
    "    # read next frame\n",
    "    ret, frame = cap.read()\n",
    "    \n",
    "    if not ret:\n",
    "        print('Camera feed not available! Exit? (y/n)')\n",
    "        exit = input()\n",
    "        if exit.strip().lower() == 'y':\n",
    "            break\n",
    "    else:\n",
    "        cv2.imshow(\"test\", frame)\n",
    "        if img_counter % 10000 == 0:\n",
    "            img_name = \"opencv_frame_{}.png\".format(img_counter)\n",
    "            cv2.imwrite(img_name, frame)\n",
    "            print(\"{} written!\".format(img_name))\n",
    "        img_counter += 1\n",
    "    \n",
    "    # if user presses q quit program\n",
    "    if cv2.waitKey(1) & 0xFF == ord(\"q\"):\n",
    "        break\n",
    "\n",
    "# close the connection and close all windows\n",
    "cap.release()\n",
    "cv2.destroyAllWindows()"
   ]
  },
  {
   "cell_type": "code",
   "execution_count": null,
   "metadata": {},
   "outputs": [],
   "source": []
  }
 ],
 "metadata": {
  "kernelspec": {
   "display_name": "KERAS_VENV",
   "language": "python",
   "name": "keras_venv"
  },
  "language_info": {
   "codemirror_mode": {
    "name": "ipython",
    "version": 3
   },
   "file_extension": ".py",
   "mimetype": "text/x-python",
   "name": "python",
   "nbconvert_exporter": "python",
   "pygments_lexer": "ipython3",
   "version": "3.5.2"
  }
 },
 "nbformat": 4,
 "nbformat_minor": 2
}
